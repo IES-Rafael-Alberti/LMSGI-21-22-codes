{
  "nbformat": 4,
  "nbformat_minor": 0,
  "metadata": {
    "colab": {
      "name": "Ejercicios API externa de Odoo resueltos.ipynb",
      "provenance": [],
      "collapsed_sections": []
    },
    "kernelspec": {
      "name": "python3",
      "display_name": "Python 3"
    },
    "language_info": {
      "name": "python"
    }
  },
  "cells": [
    {
      "cell_type": "markdown",
      "source": [
        "# Introducción\n",
        "\n",
        "En este listado de ejercicios propuestos podrás hacerte una idea del tipo de consultas que se pueden pedir en la prueba.\n",
        "\n",
        "Recuerda consultar la referencia de los Models de Odoo para poder resolverlos. Una vez tengas el modo Desarrollador activado en los Ajustes, la referencia se encuentra en el menú **Técnico** → **Modelos** (dentro del apartado **Estructura de la base de datos**).\n",
        "\n",
        "Asegúrate de contar con los datos de prueba en tu sistema.\n",
        "\n",
        "Los resultados que aparecen debajo de los bloques de código son orientativos, para que puedas hacerte una idea de lo que debes obtener. Pueden variar dependiendo de la información que tengas en tu base de datos."
      ],
      "metadata": {
        "id": "aNgmujIaGLP6"
      }
    },
    {
      "cell_type": "markdown",
      "source": [
        "# Conexión con la API\n",
        "\n",
        "Recuerda que para poder realizar la conexión, necesitamos los siguientes parámetros de nuestra instancia de Odoo:\n",
        "\n",
        "\n",
        "* **URL**: Por ejemplo, `https://edu-test.odoo.com`.\n",
        "*   **Nombre de la BD**: Por ejemplo, `edu-test`.\n",
        "* **Nombre de usuario**: El correo electrónico con el que iniciamos sesión en nuestra instancia. Por ejemplo, `abcdefg123@g.educaand.es`.\n",
        "* **Contraseña del usuario**: Por ejemplo, `password`.\n",
        "\n",
        "**Importante**: Cuando damos de alta una instancia dominio.odoo.com, la contraseña que tenemos es de la cuenta en odoo.com, pero no se genera automáticamente una contraseña para el usuario administrador. Por lo tanto, tenemos que generar una (aconsejo que sea la misma, para evitar confusiones posteriores). Para ello, seguimos los siguientes pasos:\n",
        "\n",
        "\n",
        "1.   Iniciamos sesión en nuestra instancia de Odoo.\n",
        "2.   Pulsamos en la aplicación `Ajustes`.\n",
        "3. En el apartado `OPCIONES GENERALES` → `Usuarios`, pulsamos en `Administrar usuarios`.\n",
        "4. Hacemos clic en nuestro usuario.\n",
        "5. Pulsamos en `Acción` → `Cambiar la contraseña`.\n",
        "6. Establecemos la contraseña que queramos.\n",
        "\n",
        "Una vez lo hemos hecho, ya podemos almacenar en variables los datos necesarios para la conexión.\n",
        "\n",
        "Modifica el siguiente bloque de código con los datos de tu instancia y ejecutálo.\n",
        "\n",
        "\n"
      ],
      "metadata": {
        "id": "Bed3rOhSH4if"
      }
    },
    {
      "cell_type": "code",
      "execution_count": null,
      "metadata": {
        "id": "QJ9Rm6zLLFLR"
      },
      "outputs": [],
      "source": [
        "url = 'https://edu-test.odoo.com'\n",
        "db = 'edu-test'\n",
        "username = 'abcdefg123@g.educaand.es'\n",
        "password = 'password'"
      ]
    },
    {
      "cell_type": "markdown",
      "source": [
        "Ejecuta ahora el siguiente para poder comenzar a realizar las peticiones con el uid:"
      ],
      "metadata": {
        "id": "yPWtV3s38zy1"
      }
    },
    {
      "cell_type": "code",
      "source": [
        "import xmlrpc.client\n",
        "common = xmlrpc.client.ServerProxy('{}/xmlrpc/2/common'.format(url))\n",
        "uid = common.authenticate(db, username, password, {})\n",
        "models = xmlrpc.client.ServerProxy('{}/xmlrpc/2/object'.format(url))"
      ],
      "metadata": {
        "id": "1msuOARpMaR1"
      },
      "execution_count": null,
      "outputs": []
    },
    {
      "cell_type": "markdown",
      "source": [
        "# 1. Cuenta las ventas mayores de 1000\n",
        "\n",
        "Muestra cuántas ventas se han realizado con una cantidad total mayor que 1000."
      ],
      "metadata": {
        "id": "s1GxAnKk7C29"
      }
    },
    {
      "cell_type": "code",
      "source": [
        "models.execute_kw(db, uid, password,\n",
        "    'sale.order', 'search_count',\n",
        "    [[['amount_total', '>', '1000']]])"
      ],
      "metadata": {
        "colab": {
          "base_uri": "https://localhost:8080/"
        },
        "id": "5Et0HPcl67oR",
        "outputId": "fd4e45bd-b003-451e-cda4-9f9a585f7f1a"
      },
      "execution_count": null,
      "outputs": [
        {
          "output_type": "execute_result",
          "data": {
            "text/plain": [
              "14"
            ]
          },
          "metadata": {},
          "execution_count": 12
        }
      ]
    },
    {
      "cell_type": "markdown",
      "source": [
        "# 2. Dos ventas mayores de 1000\n",
        "\n",
        "Muestra los identificadores que ocupan el lugar 3º y 4º de las ventas con una cantidad total mayor que 1000 e indica cuáles han sido esas cantidades.\n",
        "\n",
        "\n",
        "\n"
      ],
      "metadata": {
        "id": "gJ7JTs56MSvn"
      }
    },
    {
      "cell_type": "code",
      "source": [
        "models.execute_kw(db, uid, password,\n",
        "    'sale.order', 'search_read',\n",
        "    [[['amount_total', '>', '1000']]],\n",
        "    {'fields': ['amount_total'], 'offset': 2, 'limit': 2})"
      ],
      "metadata": {
        "colab": {
          "base_uri": "https://localhost:8080/"
        },
        "id": "kp9YGMaPMhn5",
        "outputId": "d88c03a5-6656-4f35-b3ce-dc5888ca7abf"
      },
      "execution_count": null,
      "outputs": [
        {
          "output_type": "execute_result",
          "data": {
            "text/plain": [
              "[{'amount_total': 1475.0, 'id': 22}, {'amount_total': 2175.0, 'id': 21}]"
            ]
          },
          "metadata": {},
          "execution_count": 47
        }
      ]
    },
    {
      "cell_type": "markdown",
      "source": [
        "Calcula la suma de ambas cantidades:"
      ],
      "metadata": {
        "id": "k9fQ12P_8Ako"
      }
    },
    {
      "cell_type": "code",
      "source": [
        "ventas = models.execute_kw(db, uid, password,\n",
        "    'sale.order', 'search_read',\n",
        "    [[['amount_total', '>', '1000']]],\n",
        "    {'fields': ['amount_total'], 'offset': 2, 'limit': 2})\n",
        "print(ventas[0]['amount_total']+ventas[1]['amount_total'])"
      ],
      "metadata": {
        "colab": {
          "base_uri": "https://localhost:8080/"
        },
        "id": "rMx0rPn87zgN",
        "outputId": "c4e2e8d0-9498-4741-ece5-b094573a8403"
      },
      "execution_count": null,
      "outputs": [
        {
          "output_type": "stream",
          "name": "stdout",
          "text": [
            "3650.0\n"
          ]
        }
      ]
    },
    {
      "cell_type": "markdown",
      "source": [
        "# 3. Escasez de productos\n",
        "\n",
        "Muestra el nombre de los productos de los que haya un stock menor de 15 y mayor o igual que 1."
      ],
      "metadata": {
        "id": "9Rlv1fWlH6s3"
      }
    },
    {
      "cell_type": "code",
      "source": [
        "productos = models.execute_kw(db, uid, password,\n",
        "    'product.product', 'search_read',\n",
        "    [[['qty_available', '<', 15],['qty_available', '>=', 1]]],\n",
        "    {'fields': ['name']})\n",
        "\n",
        "for producto in productos:\n",
        "  print(producto['name'])"
      ],
      "metadata": {
        "colab": {
          "base_uri": "https://localhost:8080/"
        },
        "id": "d98UNt6uMmgn",
        "outputId": "24b47326-ea8a-4000-e37c-6bd2a4864d07"
      },
      "execution_count": null,
      "outputs": [
        {
          "output_type": "stream",
          "name": "stdout",
          "text": [
            "Office Chair Black\n",
            "Corner Desk Left Sit\n"
          ]
        }
      ]
    },
    {
      "cell_type": "markdown",
      "source": [
        "# 4. Contactos estadounidenses\n",
        "\n",
        "Muestra los correos electrónicos de los contactos estadounidenses."
      ],
      "metadata": {
        "id": "IW_Ed_G3IvO-"
      }
    },
    {
      "cell_type": "code",
      "source": [
        "contactos = models.execute_kw(db, uid, password,\n",
        "    'res.partner', 'search_read', \n",
        "    [[['country_id', '=', 233]]],\n",
        "    {'fields': ['email']})\n",
        "\n",
        "for contacto in contactos:\n",
        "  print(contacto['email'])"
      ],
      "metadata": {
        "colab": {
          "base_uri": "https://localhost:8080/"
        },
        "id": "uG2omK1aMqFt",
        "outputId": "5c3f09ea-2754-431c-ac69-0ca42076f288"
      },
      "execution_count": null,
      "outputs": [
        {
          "output_type": "stream",
          "name": "stdout",
          "text": [
            "vauxoo@yourcompany.example.com\n",
            "brandon.freeman55@example.com\n",
            "colleen.diaz83@example.com\n",
            "nicole.ford75@example.com\n",
            "info@agrolait.com\n",
            "addison.olson28@example.com\n",
            "douglas.fletcher51@example.com\n",
            "floyd.steward34@example.com\n",
            "john.b@tech.info\n",
            "edwin.hansen58@example.com\n",
            "jesse.brown74@example.com\n",
            "oscar.morgan11@example.com\n",
            "soham.palmer15@example.com\n",
            "lumber-inv92@example.com\n",
            "lorraine.douglas35@example.com\n",
            "chicago@yourcompany.com\n",
            "jeff.lawson52@example.com\n",
            "info@yourcompany.com\n",
            "chester.reed79@example.com\n",
            "dwayne.newman28@example.com\n",
            "info@deltapc.com\n",
            "billy.fox45@example.com\n",
            "edith.sanchez68@example.com\n",
            "julie.richards84@example.com\n",
            "kim.snyder96@example.com\n",
            "sandra.neal80@example.com\n",
            "theodore.gardner36@example.com\n",
            "travis.mendoza24@example.com\n",
            "jackson.group82@example.com\n",
            "gordon.owens47@example.com\n",
            "toni.rhodes11@example.com\n",
            "bhu.a100@ic.example.com\n",
            "ron.gibson76@example.com\n",
            "tom.ruiz89@example.com\n",
            "willie.burke80@example.com\n",
            "admin@yourcompany.example.com\n"
          ]
        }
      ]
    },
    {
      "cell_type": "markdown",
      "source": [
        "# 5. Llama a los despistados\n",
        "\n",
        "Muestra los números de teléfono de aquellos contactos que tienen algún mensaje sin leer."
      ],
      "metadata": {
        "id": "rXQ2SMi2JLwO"
      }
    },
    {
      "cell_type": "code",
      "source": [
        "contactos = models.execute_kw(db, uid, password,\n",
        "    'res.partner', 'search_read', \n",
        "    [[['message_unread', '=', True]]],\n",
        "    {'fields': ['phone','message_unread']})\n",
        "\n",
        "for contacto in contactos:\n",
        "  # Por alguna razón desconocida el filtro de search no funciona, pero puede hacerse con un condicional fácilmente\n",
        "  if contacto['message_unread']:\n",
        "    print(contacto['phone'])"
      ],
      "metadata": {
        "colab": {
          "base_uri": "https://localhost:8080/"
        },
        "id": "X392ajeSMsgP",
        "outputId": "9286654d-8252-41de-d2b2-7aa936707210"
      },
      "execution_count": null,
      "outputs": [
        {
          "output_type": "stream",
          "name": "stdout",
          "text": [
            "+1 (650) 555-0111 \n"
          ]
        }
      ]
    },
    {
      "cell_type": "markdown",
      "source": [
        "# 6. Brecha de seguridad\n",
        "\n",
        "Ha habido una fuga de datos y parece que algunas cuentas de los usuarios han sido comprometidas. Muestra el nombre, el correo electrónico y el teléfono de aquellos que no tengan configurado el doble factor de autenticación para avisarles inmediatamente."
      ],
      "metadata": {
        "id": "FjJfKUrQZ_S2"
      }
    },
    {
      "cell_type": "code",
      "source": [
        "models.execute_kw(db, uid, password,\n",
        "    'res.users', 'search_read', \n",
        "    [[['totp_enabled', '=', False]]],\n",
        "    {'fields': ['name','email','phone']})"
      ],
      "metadata": {
        "colab": {
          "base_uri": "https://localhost:8080/"
        },
        "id": "t_0oVbi6Z_cr",
        "outputId": "f9350a34-45ee-4f90-c1ed-997cf7760338"
      },
      "execution_count": null,
      "outputs": [
        {
          "output_type": "execute_result",
          "data": {
            "text/plain": [
              "[{'email': 'admin@yourcompany.example.com',\n",
              "  'id': 2,\n",
              "  'name': 'Mitchell Admin',\n",
              "  'phone': '+1 555-555-5555'}]"
            ]
          },
          "metadata": {},
          "execution_count": 54
        }
      ]
    },
    {
      "cell_type": "markdown",
      "source": [
        "# 7. Agregando productos\n",
        "\n",
        "La empresa va a comenzar a vender consolas. Crea los productos con sus respectivos precios usando la API y almacena los identificadores en una lista llamada `ids`. Los productos son:\n",
        "- Nombre: Playstation 5. Precio 499€\n",
        "- Nombre: Nintendo Switch. Precio 299€\n",
        "- Nombre: Xbox Series S. Precio 299€\n",
        "- Nombre: Xbox Series X. Precio 499€\n",
        "- Nombre: Playstation 4. Precio 299€"
      ],
      "metadata": {
        "id": "w4F9zYNZeUYi"
      }
    },
    {
      "cell_type": "code",
      "source": [
        "products = [['Playstation 5',499],['Nintendo Switch',299],['Xbox Series S',299],['Xbox Series X',499],['Playstation 4',299]]\n",
        "ids = []\n",
        "\n",
        "for name,price in products:  \n",
        "  id = models.execute_kw(db, uid, password, 'product.product', 'create', [{\n",
        "    'name': name, 'price': price,\n",
        "    }])\n",
        "  ids.append(id)\n",
        "\n",
        "print(ids)"
      ],
      "metadata": {
        "colab": {
          "base_uri": "https://localhost:8080/"
        },
        "id": "77MA07q7eUku",
        "outputId": "a2dd4e19-f12a-45cd-c5a6-11edffa7d184"
      },
      "execution_count": null,
      "outputs": [
        {
          "output_type": "stream",
          "name": "stdout",
          "text": [
            "[47, 48, 49, 50, 51]\n"
          ]
        }
      ]
    },
    {
      "cell_type": "markdown",
      "source": [
        "# 8. Actualizando productos\n",
        "\n",
        "Actualiza los productos añadidos en el ejercicio anterior, aumentando su precio en 100, ya que comienza a haber escasez de los mismos."
      ],
      "metadata": {
        "id": "ewxY-TzaL-K0"
      }
    },
    {
      "cell_type": "code",
      "source": [
        "models.execute_kw(db, uid, password, 'product.product', 'write', [[ids[0],ids[3]], {\n",
        "    'price': 599\n",
        "}])\n",
        "models.execute_kw(db, uid, password, 'product.product', 'write', [[ids[1],ids[2],ids[4]], {\n",
        "    'price': 499\n",
        "}])"
      ],
      "metadata": {
        "colab": {
          "base_uri": "https://localhost:8080/"
        },
        "id": "_8LLbK9OM_tr",
        "outputId": "f91647dc-313f-4a93-bd82-bcc77651e6e1"
      },
      "execution_count": null,
      "outputs": [
        {
          "output_type": "execute_result",
          "data": {
            "text/plain": [
              "True"
            ]
          },
          "metadata": {},
          "execution_count": 72
        }
      ]
    },
    {
      "cell_type": "markdown",
      "source": [
        "# 9. Elimina los productos\n",
        "\n",
        "A un empleado de la compañía se le ha olvidado declarar que ibáis a comenzar a vender consolas. Mientras se soluciona el problema legal, es mejor eliminar esos productos del inventario."
      ],
      "metadata": {
        "id": "1jqbuiTEMj6J"
      }
    },
    {
      "cell_type": "code",
      "source": [
        "models.execute_kw(db, uid, password, 'product.product', 'unlink', [ids])"
      ],
      "metadata": {
        "colab": {
          "base_uri": "https://localhost:8080/"
        },
        "id": "E_ISedrANDr_",
        "outputId": "c578890f-196c-4a1e-ae31-93a036565169"
      },
      "execution_count": null,
      "outputs": [
        {
          "output_type": "execute_result",
          "data": {
            "text/plain": [
              "True"
            ]
          },
          "metadata": {},
          "execution_count": 75
        }
      ]
    },
    {
      "cell_type": "markdown",
      "source": [
        "# 10. Mi primer script: Un buscador de productos por precio\n",
        "\n",
        "Elabora un script en Visual Studio Code que realice lo siguiente:\n",
        "1. Pregunte al usuario por el precio que desea buscar.\n",
        "2. Pregunte al usuario si desea mostrar los productos que tengan un precio igual, superior o menor a ese precio de referencia.\n",
        "3. Muestre al usuario los nombres de los productos que cumplen esa condición.\n",
        "\n",
        "A continuación, copia y pega ese script en el siguiente bloque de código:"
      ],
      "metadata": {
        "id": "fRqrWmkonhC7"
      }
    },
    {
      "cell_type": "code",
      "source": [
        "url = 'https://edu-test.odoo.com'\n",
        "db = 'edu-test'\n",
        "username = 'abcdefg123@g.educaand.es'\n",
        "password = 'password'\n",
        "\n",
        "import xmlrpc.client\n",
        "common = xmlrpc.client.ServerProxy('{}/xmlrpc/2/common'.format(url))\n",
        "uid = common.authenticate(db, username, password, {})\n",
        "models = xmlrpc.client.ServerProxy('{}/xmlrpc/2/object'.format(url))\n",
        "\n",
        "precio = float(input(\"¿Cuál es el precio que desea buscar?: \"))\n",
        "\n",
        "comparacion = input(\"Indica si desea localizar los productos que tengan un precio mayor, menor o igual: \")\n",
        "\n",
        "if comparacion == 'mayor':\n",
        "    \n",
        "    productos = models.execute_kw(db, uid, password,\n",
        "    'product.product', 'search_read',\n",
        "    [[['list_price', '>', precio]]],\n",
        "    {'fields': ['name']})\n",
        "    if len(productos)>0:\n",
        "        print(\"Los productos con un precio mayor que \"+str(precio)+\" son:\")\n",
        "        for producto in productos:\n",
        "            print(producto['name'])\n",
        "    else:\n",
        "        print(\"No hay ningún producto con un precio mayor que ese\")\n",
        "elif comparacion == 'menor':\n",
        "    productos = models.execute_kw(db, uid, password,\n",
        "    'product.product', 'search_read',\n",
        "    [[['list_price', '<', precio]]],\n",
        "    {'fields': ['name']})\n",
        "    if len(productos)>0:\n",
        "        print(\"Los productos con un precio menor que \"+str(precio)+\" son:\")\n",
        "        for producto in productos:\n",
        "            print(producto['name'])\n",
        "    else:\n",
        "        print(\"No hay ningún producto con un precio menor que ese\")\n",
        "else:\n",
        "    productos = models.execute_kw(db, uid, password,\n",
        "    'product.product', 'search_read',\n",
        "    [[['list_price', '=', precio]]],\n",
        "    {'fields': ['name']})\n",
        "    if len(productos)>0:\n",
        "        print(\"Los productos con el precio \"+str(precio)+\" son:\")\n",
        "        for producto in productos:\n",
        "            print(producto['name'])\n",
        "    else:\n",
        "        print(\"No hay ningún producto con ese precio\")"
      ],
      "metadata": {
        "id": "5-WPyZGNnhRc"
      },
      "execution_count": null,
      "outputs": []
    },
    {
      "cell_type": "markdown",
      "source": [
        "# 11. Mi segundo script: El límite es tu imaginación\n",
        "\n",
        "Elabora otro script usando la API de Odoo que realice lo que quieras. Cuando más complejo sea el reto que te propongas, más aprenderás.\n",
        "\n",
        "Escribe a continuación la descripción de tu script y copia/pega el código en el bloque contiguo:\n",
        "\n"
      ],
      "metadata": {
        "id": "OrSfCmp9sYSM"
      }
    },
    {
      "cell_type": "code",
      "source": [
        ""
      ],
      "metadata": {
        "id": "hB4P7J6CsYaa"
      },
      "execution_count": null,
      "outputs": []
    }
  ]
}