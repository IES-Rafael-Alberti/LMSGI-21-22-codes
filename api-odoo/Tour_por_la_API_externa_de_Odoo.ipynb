{
  "nbformat": 4,
  "nbformat_minor": 0,
  "metadata": {
    "colab": {
      "name": "Tour por la API externa de Odoo.ipynb",
      "provenance": [],
      "collapsed_sections": []
    },
    "kernelspec": {
      "name": "python3",
      "display_name": "Python 3"
    },
    "language_info": {
      "name": "python"
    }
  },
  "cells": [
    {
      "cell_type": "markdown",
      "source": [
        "# Introducción\n",
        "\n",
        "Odoo es un sistema de código abierto. Esto nos permite modificar o implementar nuevas funciones. Para que esas personalizaciones no desaparezcan cuando Odoo se actualiza a una nueva versión, se implementan a través de módulos independientes.\n",
        "\n",
        "A través de la programación de esos módulos es como normalmente se personaliza Odoo, pero sus características y datos también están disponibles a través de una API externa. Esta API, desarrollada en varios lenguajes, como Python, Ruby, PHP o Java, nos permiten interactuar con el sistema desde cualquier otra aplicación o página web que desarrollemos.\n",
        "\n",
        "La API externa está disponible a través del uso del protocolo llamado XML-RPC. Este protocolo, bastante utilizado para el desarrollo de APIs, realiza peticiones remotas sobre un sistema (remote procedure call o RPC) usando XML para codificar esas peticiones y HTTP como mecanismo de transporte de las mismas."
      ],
      "metadata": {
        "id": "aNgmujIaGLP6"
      }
    },
    {
      "cell_type": "markdown",
      "source": [
        "# Conexión con la API\n",
        "\n",
        "Para poder realizar la conexión, necesitamos los siguientes parámetros de nuestra instancia de Odoo:\n",
        "\n",
        "\n",
        "* **URL**: Por ejemplo, `https://edu-test.odoo.com`.\n",
        "*   **Nombre de la BD**: Por ejemplo, `edu-test`.\n",
        "* **Nombre de usuario**: El correo electrónico con el que iniciamos sesión en nuestra instancia. Por ejemplo, `abcdefg123@g.educaand.es`.\n",
        "* **Contraseña del usuario**: Por ejemplo, `password`.\n",
        "\n",
        "**Importante**: Cuando damos de alta una instancia dominio.odoo.com, la contraseña que tenemos es de la cuenta en odoo.com, pero no se genera automáticamente una contraseña para el usuario administrador. Por lo tanto, tenemos que generar una (aconsejo que sea la misma, para evitar confusiones posteriores). Para ello, seguimos los siguientes pasos:\n",
        "\n",
        "\n",
        "1.   Iniciamos sesión en nuestra instancia de Odoo.\n",
        "2.   Pulsamos en la aplicación `Ajustes`.\n",
        "3. En el apartado `OPCIONES GENERALES` → `Usuarios`, pulsamos en `Administrar usuarios`.\n",
        "4. Hacemos clic en nuestro usuario.\n",
        "5. Pulsamos en `Acción` → `Cambiar la contraseña`.\n",
        "6. Establecemos la contraseña que queramos.\n",
        "\n",
        "Una vez lo hemos hecho, ya podemos almacenar en variables los datos necesarios para la conexión.\n",
        "\n",
        "Modifica el siguiente bloque de código con los datos de tu instancia y ejecútalo.\n",
        "\n",
        "\n"
      ],
      "metadata": {
        "id": "Bed3rOhSH4if"
      }
    },
    {
      "cell_type": "code",
      "execution_count": 1,
      "metadata": {
        "id": "QJ9Rm6zLLFLR"
      },
      "outputs": [],
      "source": [
        "url = 'https://edu-test.odoo.com'\n",
        "db = 'edu-test'\n",
        "username = 'abcdefg123@g.educaand.es'\n",
        "password = 'password'"
      ]
    },
    {
      "cell_type": "markdown",
      "source": [
        "A continuación, comprobaremos que nuestro servidor está activo. Importamos la librería `xmlrpc.client`, que nos permitirá conectarnos en Python usando el protocolo XML-RPC. El endpoint `xmlrpc/2/common` nos permite realizar peticiones que no requieren autenticación, como obtener información sobre la versión del sistema. Ejecuta el siguiente bloque de código para hacerlo."
      ],
      "metadata": {
        "id": "5no0b8_YKaiB"
      }
    },
    {
      "cell_type": "code",
      "source": [
        "import xmlrpc.client\n",
        "common = xmlrpc.client.ServerProxy('{}/xmlrpc/2/common'.format(url))\n",
        "common.version()"
      ],
      "metadata": {
        "colab": {
          "base_uri": "https://localhost:8080/"
        },
        "id": "J6W_nPJULp6z",
        "outputId": "fd5e619f-14f8-45e6-8a42-4a975b9f5a2f"
      },
      "execution_count": 2,
      "outputs": [
        {
          "output_type": "execute_result",
          "data": {
            "text/plain": [
              "{'protocol_version': 1,\n",
              " 'server_serie': '15.0',\n",
              " 'server_version': '15.0+e',\n",
              " 'server_version_info': [15, 0, 0, 'final', 0, 'e']}"
            ]
          },
          "metadata": {},
          "execution_count": 2
        }
      ]
    },
    {
      "cell_type": "markdown",
      "source": [
        "Una vez comprobado que el servidor está activo, usaremos el mismo endpoint para identificarnos en el mismo usando los datos almacenados en las variables que hemos definido anteriormente. Esta petición devuelve un identificador de usuario (`uid`) que utilizaremos en las peticiones posteriores para demostrar que nos hemos autenticado."
      ],
      "metadata": {
        "id": "8mvvQQbzL5st"
      }
    },
    {
      "cell_type": "code",
      "source": [
        "uid = common.authenticate(db, username, password, {})"
      ],
      "metadata": {
        "id": "1msuOARpMaR1"
      },
      "execution_count": 3,
      "outputs": []
    },
    {
      "cell_type": "markdown",
      "source": [
        "# Realizando peticiones a la API\n",
        "\n",
        "El siguiente endpoint que vamos a utilizar es `xmlrpc/2/object`, utilizado para hacer peticiones a los métodos de los modelos de Odoo usando la función de RPC `execute_kw`.\n",
        "\n",
        "Cada llamada a execute_kw necesita los siguientes parámetros:\n",
        "\n",
        "*   La base de datos sobre la que se realiza la petición (un string).\n",
        "*   El identificador de usuario (obtenido en el bloque de código anterior, un entero).\n",
        "* La contraseña de ese usuario (un string).\n",
        "* El nombre del modelo (un string).\n",
        "* El nombre del método (un string).\n",
        "* Un array o lista de los parámetros pasados por posición.\n",
        "* Un diccionario de parámetros pasados usando palabras claves o keywords (opcional).\n",
        "\n",
        "Por ejemplo, podemos leer el modelo `res.partner` llamando al método `check_access_rights` con la operación de lectura y el parámetro `raise_exception` para que nos devuelva `False` si ocurre un error con la petición y, por lo tanto, `True` si la petición se realiza correctamente.\n",
        "\n",
        "\n",
        "\n"
      ],
      "metadata": {
        "id": "gJ7JTs56MSvn"
      }
    },
    {
      "cell_type": "code",
      "source": [
        "models = xmlrpc.client.ServerProxy('{}/xmlrpc/2/object'.format(url))\n",
        "models.execute_kw(db, uid, password,\n",
        "    'res.partner', 'check_access_rights',\n",
        "    ['read'], {'raise_exception': False})"
      ],
      "metadata": {
        "colab": {
          "base_uri": "https://localhost:8080/"
        },
        "id": "kp9YGMaPMhn5",
        "outputId": "296d32dd-6eb4-43c6-af1a-180f2796ecdc"
      },
      "execution_count": 4,
      "outputs": [
        {
          "output_type": "execute_result",
          "data": {
            "text/plain": [
              "True"
            ]
          },
          "metadata": {},
          "execution_count": 4
        }
      ]
    },
    {
      "cell_type": "markdown",
      "source": [
        "## Listar los registros\n",
        "\n",
        "Los registros pueden listarse y filtrarse usando `search()`.\n",
        "\n",
        "`search()` utiliza un filtro y devuelve los identificadores en la base de datos de todos los registros que coincidan con el filtro. Por ejemplo, para listar las compañías clientes:"
      ],
      "metadata": {
        "id": "9Rlv1fWlH6s3"
      }
    },
    {
      "cell_type": "code",
      "source": [
        "models.execute_kw(db, uid, password,\n",
        "    'res.partner', 'search',\n",
        "    [[['is_company', '=', True]]])"
      ],
      "metadata": {
        "colab": {
          "base_uri": "https://localhost:8080/"
        },
        "id": "d98UNt6uMmgn",
        "outputId": "b670961b-acd2-494d-942b-235c955e6450"
      },
      "execution_count": 6,
      "outputs": [
        {
          "output_type": "execute_result",
          "data": {
            "text/plain": [
              "[14, 10, 11, 15, 41, 1, 12, 13, 9]"
            ]
          },
          "metadata": {},
          "execution_count": 6
        }
      ]
    },
    {
      "cell_type": "markdown",
      "source": [
        "## Paginación\n",
        "\n",
        "Por defecto, search devuelve todos los registros que coincidan con la condición, que pueden ser muchos. Podemos usar `offset` (comenzar a listar a partir de un número de registros) y `limit` (limitar el número de registros) para obtener un subconjunto de los mismos únicamente."
      ],
      "metadata": {
        "id": "IW_Ed_G3IvO-"
      }
    },
    {
      "cell_type": "code",
      "source": [
        "models.execute_kw(db, uid, password,\n",
        "    'res.partner', 'search',\n",
        "    [[['is_company', '=', True]]],\n",
        "    {'offset': 6, 'limit': 2})"
      ],
      "metadata": {
        "colab": {
          "base_uri": "https://localhost:8080/"
        },
        "id": "uG2omK1aMqFt",
        "outputId": "d37ad661-9f4e-41ad-8d6f-93804dd3530e"
      },
      "execution_count": 7,
      "outputs": [
        {
          "output_type": "execute_result",
          "data": {
            "text/plain": [
              "[12, 13]"
            ]
          },
          "metadata": {},
          "execution_count": 7
        }
      ]
    },
    {
      "cell_type": "markdown",
      "source": [
        "## Contar registros\n",
        "\n",
        "En lugar de obtener una lista gigante de identificadores de registros, se puede utilizar `search_count()` para obtener únicamente el número de ellos que coinciden con el filtro."
      ],
      "metadata": {
        "id": "rXQ2SMi2JLwO"
      }
    },
    {
      "cell_type": "code",
      "source": [
        "models.execute_kw(db, uid, password,\n",
        "    'res.partner', 'search_count',\n",
        "    [[['is_company', '=', True]]])"
      ],
      "metadata": {
        "colab": {
          "base_uri": "https://localhost:8080/"
        },
        "id": "X392ajeSMsgP",
        "outputId": "e0f25c94-7378-4fb8-d4dc-8d3b25159d41"
      },
      "execution_count": null,
      "outputs": [
        {
          "output_type": "execute_result",
          "data": {
            "text/plain": [
              "9"
            ]
          },
          "metadata": {},
          "execution_count": 37
        }
      ]
    },
    {
      "cell_type": "markdown",
      "source": [
        "## Leer registros\n",
        "\n",
        "Los datos de un registro están accesibles a través del método `read()`, que coge una lista de identificadores (`ids`) devueltos por `search()` y, opcionalmente, una lista de campos que obtener. Por defecto, obtendrá todos los campos que el usuario tenga permisos para leer, que suelen ser bastantes."
      ],
      "metadata": {
        "id": "YAqJqVIOJc2f"
      }
    },
    {
      "cell_type": "code",
      "source": [
        "ids = models.execute_kw(db, uid, password,\n",
        "    'res.partner', 'search',\n",
        "    [[['is_company', '=', True]]],\n",
        "    {'limit': 1})\n",
        "[record] = models.execute_kw(db, uid, password,\n",
        "    'res.partner', 'read', [ids])\n",
        "# cuenta el número de campos obtenidos por defecto\n",
        "len(record)"
      ],
      "metadata": {
        "colab": {
          "base_uri": "https://localhost:8080/"
        },
        "id": "mJDo9AUgMu8I",
        "outputId": "2347409b-bd5c-457a-e102-560d9695d424"
      },
      "execution_count": null,
      "outputs": [
        {
          "output_type": "execute_result",
          "data": {
            "text/plain": [
              "151"
            ]
          },
          "metadata": {},
          "execution_count": 38
        }
      ]
    },
    {
      "cell_type": "markdown",
      "source": [
        "Es mejor obtener solamente los campos que nos interesen."
      ],
      "metadata": {
        "id": "12eo8lZEJ90N"
      }
    },
    {
      "cell_type": "code",
      "source": [
        "models.execute_kw(db, uid, password,\n",
        "    'res.partner', 'read',\n",
        "    [ids], {'fields': ['name', 'country_id', 'comment']})"
      ],
      "metadata": {
        "colab": {
          "base_uri": "https://localhost:8080/"
        },
        "id": "9vM5IrFyMxb_",
        "outputId": "cfb89426-010a-4d6e-ca01-fb9ac0e82ff0"
      },
      "execution_count": null,
      "outputs": [
        {
          "output_type": "execute_result",
          "data": {
            "text/plain": [
              "[{'comment': False,\n",
              "  'country_id': [233, 'United States'],\n",
              "  'id': 14,\n",
              "  'name': 'Azure Interior'}]"
            ]
          },
          "metadata": {},
          "execution_count": 39
        }
      ]
    },
    {
      "cell_type": "markdown",
      "source": [
        "## Listar los campos de registros\n",
        "\n",
        "El método `fields_get()` puede utilizarse para inspeccionar los campos de un modelo y comprobar cuáles nos interesan.\n",
        "\n",
        "Como devuelve una gran cantidad de meta-información del modelo, debería filtrarse antes de mostrarse por pantalla. Los más interesantes para la lectura por parte de un ser humano son `string` (la etiqueta del campo), `help` (un texto de ayuda sobre el mismo si está disponible) y `type` (para conocer qué tipo de valores esperar o saber qué valores enviar para actualizar un registro)."
      ],
      "metadata": {
        "id": "NHNxYdjzKKjH"
      }
    },
    {
      "cell_type": "code",
      "source": [
        "models.execute_kw(\n",
        "    db, uid, password, 'res.partner', 'fields_get',\n",
        "    [], {'attributes': ['string', 'help', 'type']})"
      ],
      "metadata": {
        "colab": {
          "base_uri": "https://localhost:8080/"
        },
        "id": "cd4K3GqpM0Is",
        "outputId": "c73e708d-24ad-4aeb-9c6e-45b50373f3f6"
      },
      "execution_count": null,
      "outputs": [
        {
          "output_type": "execute_result",
          "data": {
            "text/plain": [
              "{'__last_update': {'string': 'Last Modified on', 'type': 'datetime'},\n",
              " 'active': {'string': 'Active', 'type': 'boolean'},\n",
              " 'active_lang_count': {'string': 'Active Lang Count', 'type': 'integer'},\n",
              " 'activity_calendar_event_id': {'string': 'Next Activity Calendar Event',\n",
              "  'type': 'many2one'},\n",
              " 'activity_date_deadline': {'string': 'Next Activity Deadline',\n",
              "  'type': 'date'},\n",
              " 'activity_exception_decoration': {'help': 'Type of the exception activity on record.',\n",
              "  'string': 'Activity Exception Decoration',\n",
              "  'type': 'selection'},\n",
              " 'activity_exception_icon': {'help': 'Icon to indicate an exception activity.',\n",
              "  'string': 'Icon',\n",
              "  'type': 'char'},\n",
              " 'activity_ids': {'string': 'Activities', 'type': 'one2many'},\n",
              " 'activity_state': {'help': 'Status based on activities\\nOverdue: Due date is already passed\\nToday: Activity date is today\\nPlanned: Future activities.',\n",
              "  'string': 'Activity State',\n",
              "  'type': 'selection'},\n",
              " 'activity_summary': {'string': 'Next Activity Summary', 'type': 'char'},\n",
              " 'activity_type_icon': {'help': 'Font awesome icon e.g. fa-tasks',\n",
              "  'string': 'Activity Type Icon',\n",
              "  'type': 'char'},\n",
              " 'activity_type_id': {'string': 'Next Activity Type', 'type': 'many2one'},\n",
              " 'activity_user_id': {'string': 'Responsible User', 'type': 'many2one'},\n",
              " 'additional_info': {'string': 'Additional info', 'type': 'char'},\n",
              " 'avatar_1024': {'string': 'Avatar 1024', 'type': 'binary'},\n",
              " 'avatar_128': {'string': 'Avatar 128', 'type': 'binary'},\n",
              " 'avatar_1920': {'string': 'Avatar', 'type': 'binary'},\n",
              " 'avatar_256': {'string': 'Avatar 256', 'type': 'binary'},\n",
              " 'avatar_512': {'string': 'Avatar 512', 'type': 'binary'},\n",
              " 'bank_account_count': {'string': 'Bank', 'type': 'integer'},\n",
              " 'bank_ids': {'string': 'Banks', 'type': 'one2many'},\n",
              " 'barcode': {'help': 'Use a barcode to identify this contact.',\n",
              "  'string': 'Barcode',\n",
              "  'type': 'char'},\n",
              " 'calendar_last_notif_ack': {'string': 'Last notification marked as read from base Calendar',\n",
              "  'type': 'datetime'},\n",
              " 'category_id': {'string': 'Tags', 'type': 'many2many'},\n",
              " 'channel_ids': {'string': 'Channels', 'type': 'many2many'},\n",
              " 'child_ids': {'string': 'Contact', 'type': 'one2many'},\n",
              " 'city': {'string': 'City', 'type': 'char'},\n",
              " 'color': {'string': 'Color Index', 'type': 'integer'},\n",
              " 'comment': {'string': 'Notes', 'type': 'html'},\n",
              " 'commercial_company_name': {'string': 'Company Name Entity', 'type': 'char'},\n",
              " 'commercial_partner_id': {'string': 'Commercial Entity', 'type': 'many2one'},\n",
              " 'company_id': {'string': 'Company', 'type': 'many2one'},\n",
              " 'company_name': {'string': 'Company Name', 'type': 'char'},\n",
              " 'company_type': {'string': 'Company Type', 'type': 'selection'},\n",
              " 'contact_address': {'string': 'Complete Address', 'type': 'char'},\n",
              " 'contact_address_complete': {'string': 'Contact Address Complete',\n",
              "  'type': 'char'},\n",
              " 'contract_ids': {'string': 'Partner Contracts', 'type': 'one2many'},\n",
              " 'country_code': {'help': 'The ISO country code in two chars. \\nYou can use this field for quick search.',\n",
              "  'string': 'Country Code',\n",
              "  'type': 'char'},\n",
              " 'country_id': {'string': 'Country', 'type': 'many2one'},\n",
              " 'create_date': {'string': 'Created on', 'type': 'datetime'},\n",
              " 'create_uid': {'string': 'Created by', 'type': 'many2one'},\n",
              " 'credit': {'help': 'Total amount this customer owes you.',\n",
              "  'string': 'Total Receivable',\n",
              "  'type': 'monetary'},\n",
              " 'credit_limit': {'string': 'Credit Limit', 'type': 'float'},\n",
              " 'currency_id': {'help': 'Utility field to express amount currency',\n",
              "  'string': 'Currency',\n",
              "  'type': 'many2one'},\n",
              " 'customer_rank': {'string': 'Customer Rank', 'type': 'integer'},\n",
              " 'date': {'string': 'Date', 'type': 'date'},\n",
              " 'debit': {'help': 'Total amount you have to pay to this vendor.',\n",
              "  'string': 'Total Payable',\n",
              "  'type': 'monetary'},\n",
              " 'debit_limit': {'string': 'Payable Limit', 'type': 'monetary'},\n",
              " 'display_name': {'string': 'Display Name', 'type': 'char'},\n",
              " 'email': {'string': 'Email', 'type': 'char'},\n",
              " 'email_formatted': {'help': 'Format email address \"Name <email@domain>\"',\n",
              "  'string': 'Formatted Email',\n",
              "  'type': 'char'},\n",
              " 'email_normalized': {'help': 'This field is used to search on email address as the primary email field can contain more than strictly an email address.',\n",
              "  'string': 'Normalized Email',\n",
              "  'type': 'char'},\n",
              " 'employee': {'help': 'Check this box if this contact is an Employee.',\n",
              "  'string': 'Employee',\n",
              "  'type': 'boolean'},\n",
              " 'function': {'string': 'Job Position', 'type': 'char'},\n",
              " 'has_message': {'string': 'Has Message', 'type': 'boolean'},\n",
              " 'has_unreconciled_entries': {'help': 'The partner has at least one unreconciled debit and credit since last time the invoices & payments matching was performed.',\n",
              "  'string': 'Has Unreconciled Entries',\n",
              "  'type': 'boolean'},\n",
              " 'id': {'string': 'ID', 'type': 'integer'},\n",
              " 'im_status': {'string': 'IM Status', 'type': 'char'},\n",
              " 'image_1024': {'string': 'Image 1024', 'type': 'binary'},\n",
              " 'image_128': {'string': 'Image 128', 'type': 'binary'},\n",
              " 'image_1920': {'string': 'Image', 'type': 'binary'},\n",
              " 'image_256': {'string': 'Image 256', 'type': 'binary'},\n",
              " 'image_512': {'string': 'Image 512', 'type': 'binary'},\n",
              " 'image_medium': {'string': 'Medium-sized image', 'type': 'binary'},\n",
              " 'industry_id': {'string': 'Industry', 'type': 'many2one'},\n",
              " 'invoice_ids': {'string': 'Invoices', 'type': 'one2many'},\n",
              " 'invoice_warn': {'help': 'Selecting the \"Warning\" option will notify user with the message, Selecting \"Blocking Message\" will throw an exception with the message and block the flow. The Message has to be written in the next field.',\n",
              "  'string': 'Invoice',\n",
              "  'type': 'selection'},\n",
              " 'invoice_warn_msg': {'string': 'Message for Invoice', 'type': 'text'},\n",
              " 'is_blacklisted': {'help': \"If the email address is on the blacklist, the contact won't receive mass mailing anymore, from any list\",\n",
              "  'string': 'Blacklist',\n",
              "  'type': 'boolean'},\n",
              " 'is_company': {'help': 'Check if the contact is a company, otherwise it is a person',\n",
              "  'string': 'Is a Company',\n",
              "  'type': 'boolean'},\n",
              " 'journal_item_count': {'string': 'Journal Items', 'type': 'integer'},\n",
              " 'lang': {'help': 'All the emails and documents sent to this contact will be translated in this language.',\n",
              "  'string': 'Language',\n",
              "  'type': 'selection'},\n",
              " 'last_time_entries_checked': {'help': 'Last time the invoices & payments matching was performed for this partner. It is set either if there\\'s not at least an unreconciled debit and an unreconciled credit or if you click the \"Done\" button.',\n",
              "  'string': 'Latest Invoices & Payments Matching Date',\n",
              "  'type': 'datetime'},\n",
              " 'meeting_count': {'string': '# Meetings', 'type': 'integer'},\n",
              " 'meeting_ids': {'string': 'Meetings', 'type': 'many2many'},\n",
              " 'message_attachment_count': {'string': 'Attachment Count', 'type': 'integer'},\n",
              " 'message_bounce': {'help': 'Counter of the number of bounced emails for this contact',\n",
              "  'string': 'Bounce',\n",
              "  'type': 'integer'},\n",
              " 'message_follower_ids': {'string': 'Followers', 'type': 'one2many'},\n",
              " 'message_has_error': {'help': 'If checked, some messages have a delivery error.',\n",
              "  'string': 'Message Delivery error',\n",
              "  'type': 'boolean'},\n",
              " 'message_has_error_counter': {'help': 'Number of messages with delivery error',\n",
              "  'string': 'Number of errors',\n",
              "  'type': 'integer'},\n",
              " 'message_has_sms_error': {'help': 'If checked, some messages have a delivery error.',\n",
              "  'string': 'SMS Delivery error',\n",
              "  'type': 'boolean'},\n",
              " 'message_ids': {'string': 'Messages', 'type': 'one2many'},\n",
              " 'message_is_follower': {'string': 'Is Follower', 'type': 'boolean'},\n",
              " 'message_main_attachment_id': {'string': 'Main Attachment',\n",
              "  'type': 'many2one'},\n",
              " 'message_needaction': {'help': 'If checked, new messages require your attention.',\n",
              "  'string': 'Action Needed',\n",
              "  'type': 'boolean'},\n",
              " 'message_needaction_counter': {'help': 'Number of messages which requires an action',\n",
              "  'string': 'Number of Actions',\n",
              "  'type': 'integer'},\n",
              " 'message_partner_ids': {'string': 'Followers (Partners)',\n",
              "  'type': 'many2many'},\n",
              " 'message_unread': {'help': 'If checked, new messages require your attention.',\n",
              "  'string': 'Unread Messages',\n",
              "  'type': 'boolean'},\n",
              " 'message_unread_counter': {'help': 'Number of unread messages',\n",
              "  'string': 'Unread Messages Counter',\n",
              "  'type': 'integer'},\n",
              " 'mobile': {'string': 'Mobile', 'type': 'char'},\n",
              " 'mobile_blacklisted': {'help': 'Indicates if a blacklisted sanitized phone number is a mobile number. Helps distinguish which number is blacklisted             when there is both a mobile and phone field in a model.',\n",
              "  'string': 'Blacklisted Phone Is Mobile',\n",
              "  'type': 'boolean'},\n",
              " 'my_activity_date_deadline': {'string': 'My Activity Deadline',\n",
              "  'type': 'date'},\n",
              " 'name': {'string': 'Name', 'type': 'char'},\n",
              " 'ocn_token': {'help': 'Used for sending notification to registered devices',\n",
              "  'string': 'OCN Token',\n",
              "  'type': 'char'},\n",
              " 'opportunity_count': {'string': 'Opportunity', 'type': 'integer'},\n",
              " 'opportunity_ids': {'string': 'Opportunities', 'type': 'one2many'},\n",
              " 'parent_id': {'string': 'Related Company', 'type': 'many2one'},\n",
              " 'parent_name': {'string': 'Parent name', 'type': 'char'},\n",
              " 'partner_gid': {'string': 'Company database ID', 'type': 'integer'},\n",
              " 'partner_latitude': {'string': 'Geo Latitude', 'type': 'float'},\n",
              " 'partner_longitude': {'string': 'Geo Longitude', 'type': 'float'},\n",
              " 'partner_share': {'help': 'Either customer (not a user), either shared user. Indicated the current partner is a customer without access or with a limited access created for sharing data.',\n",
              "  'string': 'Share Partner',\n",
              "  'type': 'boolean'},\n",
              " 'payment_token_count': {'string': 'Payment Token Count', 'type': 'integer'},\n",
              " 'payment_token_ids': {'string': 'Payment Tokens', 'type': 'one2many'},\n",
              " 'phone': {'string': 'Phone', 'type': 'char'},\n",
              " 'phone_blacklisted': {'help': 'Indicates if a blacklisted sanitized phone number is a phone number. Helps distinguish which number is blacklisted             when there is both a mobile and phone field in a model.',\n",
              "  'string': 'Blacklisted Phone is Phone',\n",
              "  'type': 'boolean'},\n",
              " 'phone_mobile_search': {'string': 'Phone/Mobile', 'type': 'char'},\n",
              " 'phone_sanitized': {'help': 'Field used to store sanitized phone number. Helps speeding up searches and comparisons.',\n",
              "  'string': 'Sanitized Number',\n",
              "  'type': 'char'},\n",
              " 'phone_sanitized_blacklisted': {'help': \"If the sanitized phone number is on the blacklist, the contact won't receive mass mailing sms anymore, from any list\",\n",
              "  'string': 'Phone Blacklisted',\n",
              "  'type': 'boolean'},\n",
              " 'picking_warn': {'help': 'Selecting the \"Warning\" option will notify user with the message, Selecting \"Blocking Message\" will throw an exception with the message and block the flow. The Message has to be written in the next field.',\n",
              "  'string': 'Stock Picking',\n",
              "  'type': 'selection'},\n",
              " 'picking_warn_msg': {'string': 'Message for Stock Picking', 'type': 'text'},\n",
              " 'property_account_payable_id': {'help': 'This account will be used instead of the default one as the payable account for the current partner',\n",
              "  'string': 'Account Payable',\n",
              "  'type': 'many2one'},\n",
              " 'property_account_position_id': {'help': 'The fiscal position determines the taxes/accounts used for this contact.',\n",
              "  'string': 'Fiscal Position',\n",
              "  'type': 'many2one'},\n",
              " 'property_account_receivable_id': {'help': 'This account will be used instead of the default one as the receivable account for the current partner',\n",
              "  'string': 'Account Receivable',\n",
              "  'type': 'many2one'},\n",
              " 'property_payment_term_id': {'help': 'This payment term will be used instead of the default one for sales orders and customer invoices',\n",
              "  'string': 'Customer Payment Terms',\n",
              "  'type': 'many2one'},\n",
              " 'property_product_pricelist': {'help': 'This pricelist will be used, instead of the default one, for sales to the current partner',\n",
              "  'string': 'Pricelist',\n",
              "  'type': 'many2one'},\n",
              " 'property_stock_customer': {'help': 'The stock location used as destination when sending goods to this contact.',\n",
              "  'string': 'Customer Location',\n",
              "  'type': 'many2one'},\n",
              " 'property_stock_supplier': {'help': 'The stock location used as source when receiving goods from this contact.',\n",
              "  'string': 'Vendor Location',\n",
              "  'type': 'many2one'},\n",
              " 'property_supplier_payment_term_id': {'help': 'This payment term will be used instead of the default one for purchase orders and vendor bills',\n",
              "  'string': 'Vendor Payment Terms',\n",
              "  'type': 'many2one'},\n",
              " 'ref': {'string': 'Reference', 'type': 'char'},\n",
              " 'ref_company_ids': {'string': 'Companies that refers to partner',\n",
              "  'type': 'one2many'},\n",
              " 'sale_order_count': {'string': 'Sale Order Count', 'type': 'integer'},\n",
              " 'sale_order_ids': {'string': 'Sales Order', 'type': 'one2many'},\n",
              " 'sale_warn': {'help': 'Selecting the \"Warning\" option will notify user with the message, Selecting \"Blocking Message\" will throw an exception with the message and block the flow. The Message has to be written in the next field.',\n",
              "  'string': 'Sales Warnings',\n",
              "  'type': 'selection'},\n",
              " 'sale_warn_msg': {'string': 'Message for Sales Order', 'type': 'text'},\n",
              " 'same_vat_partner_id': {'string': 'Partner with same Tax ID',\n",
              "  'type': 'many2one'},\n",
              " 'self': {'string': 'Self', 'type': 'many2one'},\n",
              " 'signup_expiration': {'string': 'Signup Expiration', 'type': 'datetime'},\n",
              " 'signup_token': {'string': 'Signup Token', 'type': 'char'},\n",
              " 'signup_type': {'string': 'Signup Token Type', 'type': 'char'},\n",
              " 'signup_url': {'string': 'Signup URL', 'type': 'char'},\n",
              " 'signup_valid': {'string': 'Signup Token is Valid', 'type': 'boolean'},\n",
              " 'state_id': {'string': 'State', 'type': 'many2one'},\n",
              " 'street': {'string': 'Street', 'type': 'char'},\n",
              " 'street2': {'string': 'Street2', 'type': 'char'},\n",
              " 'supplier_rank': {'string': 'Supplier Rank', 'type': 'integer'},\n",
              " 'team_id': {'help': 'If set, this Sales Team will be used for sales and assignments related to this partner',\n",
              "  'string': 'Sales Team',\n",
              "  'type': 'many2one'},\n",
              " 'title': {'string': 'Title', 'type': 'many2one'},\n",
              " 'total_invoiced': {'string': 'Total Invoiced', 'type': 'monetary'},\n",
              " 'trust': {'string': 'Degree of trust you have in this debtor',\n",
              "  'type': 'selection'},\n",
              " 'type': {'help': 'Invoice & Delivery addresses are used in sales orders. Private addresses are only visible by authorized users.',\n",
              "  'string': 'Address Type',\n",
              "  'type': 'selection'},\n",
              " 'tz': {'help': 'When printing documents and exporting/importing data, time values are computed according to this timezone.\\nIf the timezone is not set, UTC (Coordinated Universal Time) is used.\\nAnywhere else, time values are computed according to the time offset of your web client.',\n",
              "  'string': 'Timezone',\n",
              "  'type': 'selection'},\n",
              " 'tz_offset': {'string': 'Timezone offset', 'type': 'char'},\n",
              " 'user_id': {'help': 'The internal user in charge of this contact.',\n",
              "  'string': 'Salesperson',\n",
              "  'type': 'many2one'},\n",
              " 'user_ids': {'string': 'Users', 'type': 'one2many'},\n",
              " 'vat': {'help': 'The Tax Identification Number. Complete it if the contact is subjected to government taxes. Used in some legal statements.',\n",
              "  'string': 'VAT/Tax ID',\n",
              "  'type': 'char'},\n",
              " 'website': {'string': 'Website Link', 'type': 'char'},\n",
              " 'website_message_ids': {'help': 'Website communication history',\n",
              "  'string': 'Website Messages',\n",
              "  'type': 'one2many'},\n",
              " 'write_date': {'string': 'Last Updated on', 'type': 'datetime'},\n",
              " 'write_uid': {'string': 'Last Updated by', 'type': 'many2one'},\n",
              " 'zip': {'string': 'Zip', 'type': 'char'}}"
            ]
          },
          "metadata": {},
          "execution_count": 40
        }
      ]
    },
    {
      "cell_type": "markdown",
      "source": [
        "## Búsqueda y lectura\n",
        "\n",
        "Como suele ser una tarea habitual, Odoo proporciona el método `search_read()` que es equivalente a hacer un método `search()` y luego un método `read()` para esa búsqueda.\n",
        "\n",
        "Los argumentos son similares a `search()`, pero también se le pasa una lista de campos (como en `read()`, si no se le pasa, mostrará todos los campos)."
      ],
      "metadata": {
        "id": "k9ppETOYK4Sw"
      }
    },
    {
      "cell_type": "code",
      "source": [
        "models.execute_kw(db, uid, password,\n",
        "    'res.partner', 'search_read',\n",
        "    [[['is_company', '=', True]]],\n",
        "    {'fields': ['name', 'country_id', 'comment'], 'limit': 5})"
      ],
      "metadata": {
        "colab": {
          "base_uri": "https://localhost:8080/"
        },
        "id": "W2XI1TZ8M6gu",
        "outputId": "dc4a3486-7820-4a45-cb1b-10dc4bc25dd0"
      },
      "execution_count": null,
      "outputs": [
        {
          "output_type": "execute_result",
          "data": {
            "text/plain": [
              "[{'comment': False,\n",
              "  'country_id': [233, 'United States'],\n",
              "  'id': 14,\n",
              "  'name': 'Azure Interior'},\n",
              " {'comment': False,\n",
              "  'country_id': [233, 'United States'],\n",
              "  'id': 10,\n",
              "  'name': 'Deco Addict'},\n",
              " {'comment': False,\n",
              "  'country_id': [233, 'United States'],\n",
              "  'id': 11,\n",
              "  'name': 'Gemini Furniture'},\n",
              " {'comment': False,\n",
              "  'country_id': [233, 'United States'],\n",
              "  'id': 15,\n",
              "  'name': 'Lumber Inc'},\n",
              " {'comment': False,\n",
              "  'country_id': [233, 'United States'],\n",
              "  'id': 41,\n",
              "  'name': 'My Company (Chicago)'}]"
            ]
          },
          "metadata": {},
          "execution_count": 43
        }
      ]
    },
    {
      "cell_type": "markdown",
      "source": [
        "## Crear registros\n",
        "\n",
        "Los registros de un modelo se crean usando `create()`. El método creará un solo registro y devolverá su identificador en la base de datos.\n",
        "\n",
        "A `create()` se le pasa un diccionario de campos y valores, usados para inicializar el registro. Los campos a los que no se le indique un valor, se les pondrá el valor por defecto (si lo tuviesen)."
      ],
      "metadata": {
        "id": "3GTeouxHLWzV"
      }
    },
    {
      "cell_type": "code",
      "source": [
        "id = models.execute_kw(db, uid, password, 'res.partner', 'create', [{\n",
        "    'name': \"New Partner\",\n",
        "}])\n",
        "print(id)"
      ],
      "metadata": {
        "id": "SvNYCHQOM8D-",
        "colab": {
          "base_uri": "https://localhost:8080/"
        },
        "outputId": "08793c7c-9cef-4ac2-9533-fe0fb437b3d6"
      },
      "execution_count": 11,
      "outputs": [
        {
          "output_type": "stream",
          "name": "stdout",
          "text": [
            "48\n"
          ]
        }
      ]
    },
    {
      "cell_type": "markdown",
      "source": [
        "## Actualizar registros\n",
        "\n",
        "Los registros pueden actualizarse usando `write()`, al que se le pasa una lista de los registros a actualizar y un diccionario de campos con los valores similar a como se hace en `create()`.\n",
        "\n",
        "Se pueden actualizar múltiples registros al mismo tiempo, pero obtendrán los mismos valores para los campos que se estén actualizando. No es posible de momento realizar actualizaciones en función del valor de otro campo de un registro."
      ],
      "metadata": {
        "id": "ewxY-TzaL-K0"
      }
    },
    {
      "cell_type": "code",
      "source": [
        "models.execute_kw(db, uid, password, 'res.partner', 'write', [[id], {\n",
        "    'name': \"Newer partner\"\n",
        "}])\n",
        "# obtener el nombre del registro después de haberlo actualizado\n",
        "models.execute_kw(db, uid, password, 'res.partner', 'name_get', [[id]])"
      ],
      "metadata": {
        "colab": {
          "base_uri": "https://localhost:8080/"
        },
        "id": "_8LLbK9OM_tr",
        "outputId": "b84afe08-d797-431b-dee0-e946bb5e5a56"
      },
      "execution_count": 12,
      "outputs": [
        {
          "output_type": "execute_result",
          "data": {
            "text/plain": [
              "[[48, 'Newer partner']]"
            ]
          },
          "metadata": {},
          "execution_count": 12
        }
      ]
    },
    {
      "cell_type": "markdown",
      "source": [
        "## Eliminar de registros\n",
        "\n",
        "Los registros pueden eliminarse de forma masiva pasando sus identificadores a `unlink()`."
      ],
      "metadata": {
        "id": "1jqbuiTEMj6J"
      }
    },
    {
      "cell_type": "code",
      "source": [
        "models.execute_kw(db, uid, password, 'res.partner', 'unlink', [[id]])\n",
        "# comprobamos si el registro eliminado sigue en la base de datos\n",
        "models.execute_kw(db, uid, password,\n",
        "    'res.partner', 'search', [[['id', '=', id]]])"
      ],
      "metadata": {
        "colab": {
          "base_uri": "https://localhost:8080/"
        },
        "id": "E_ISedrANDr_",
        "outputId": "e8d875c2-947b-4a8b-ec8e-5005ec3deffc"
      },
      "execution_count": 13,
      "outputs": [
        {
          "output_type": "execute_result",
          "data": {
            "text/plain": [
              "[]"
            ]
          },
          "metadata": {},
          "execution_count": 13
        }
      ]
    }
  ]
}