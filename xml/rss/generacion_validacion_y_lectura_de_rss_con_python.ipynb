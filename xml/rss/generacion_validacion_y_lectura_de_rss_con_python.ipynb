{
  "nbformat": 4,
  "nbformat_minor": 0,
  "metadata": {
    "colab": {
      "name": "Generación, validación y lectura de RSS con Python.ipynb",
      "provenance": [],
      "collapsed_sections": []
    },
    "kernelspec": {
      "name": "python3",
      "display_name": "Python 3"
    },
    "language_info": {
      "name": "python"
    }
  },
  "cells": [
    {
      "cell_type": "markdown",
      "source": [
        "# Generación de un feed RSS"
      ],
      "metadata": {
        "id": "qyijqcYoNgsW"
      }
    },
    {
      "cell_type": "markdown",
      "source": [
        "Para generar un feed RSS en Python podemos utilizar la librería `feedgen`. El primer paso será instalarla."
      ],
      "metadata": {
        "id": "t0hHa9andtE2"
      }
    },
    {
      "cell_type": "markdown",
      "source": [
        "## Instalar librería"
      ],
      "metadata": {
        "id": "3oxUgVVuOPdx"
      }
    },
    {
      "cell_type": "code",
      "execution_count": null,
      "metadata": {
        "colab": {
          "base_uri": "https://localhost:8080/"
        },
        "id": "0-F6I1q9Nc5z",
        "outputId": "1f32491e-2151-4317-fa1c-d2911e330875"
      },
      "outputs": [
        {
          "output_type": "stream",
          "name": "stdout",
          "text": [
            "Collecting feedgen\n",
            "  Downloading feedgen-0.9.0.tar.gz (217 kB)\n",
            "\u001b[K     |████████████████████████████████| 217 kB 5.5 MB/s \n",
            "\u001b[?25hRequirement already satisfied: lxml in /usr/local/lib/python3.7/dist-packages (from feedgen) (4.2.6)\n",
            "Requirement already satisfied: python-dateutil in /usr/local/lib/python3.7/dist-packages (from feedgen) (2.8.2)\n",
            "Requirement already satisfied: six>=1.5 in /usr/local/lib/python3.7/dist-packages (from python-dateutil->feedgen) (1.15.0)\n",
            "Building wheels for collected packages: feedgen\n",
            "  Building wheel for feedgen (setup.py) ... \u001b[?25l\u001b[?25hdone\n",
            "  Created wheel for feedgen: filename=feedgen-0.9.0-py2.py3-none-any.whl size=44383 sha256=7de2974a9f11346146b1647cd42b5a553686137f512d2e1769374844f3d93721\n",
            "  Stored in directory: /root/.cache/pip/wheels/41/38/49/6076f92487edf3b4e4d79f1ac91edda8648b19bc130ef48d11\n",
            "Successfully built feedgen\n",
            "Installing collected packages: feedgen\n",
            "Successfully installed feedgen-0.9.0\n"
          ]
        }
      ],
      "source": [
        "pip install feedgen"
      ]
    },
    {
      "cell_type": "markdown",
      "source": [
        "## Crear feed RSS"
      ],
      "metadata": {
        "id": "Jtq7RP_UOSfW"
      }
    },
    {
      "cell_type": "markdown",
      "source": [
        "Para crear un feed utilizamos el constructor `FeedGenerator`. Luego tendremos que añadirle los atributos obligatorios y opcionales que queramos del canal (channel)."
      ],
      "metadata": {
        "id": "CX_bt1GVd3fa"
      }
    },
    {
      "cell_type": "code",
      "source": [
        "from feedgen.feed import FeedGenerator\n",
        "fg = FeedGenerator()\n",
        "fg.id('Identificador del feed')\n",
        "fg.title('IES Rafael Alberti')\n",
        "fg.author( {'name':'1º DAM','email':'1dam@iesrafaelalberti.es'} )\n",
        "fg.link( href='iesrafaelalberti.es', rel='alternate' )\n",
        "fg.logo('http://iesrafaelalberti.es/logo.jpg')\n",
        "fg.subtitle('Subtítulo del feed')\n",
        "fg.link( href='https://iesrafaelalberti.es/rss.xml', rel='self' )\n",
        "fg.language('es-ES')\n",
        "\n",
        "# Podemos imprimir un string con toda la información añadida al feed hasta el momento\n",
        "print(fg.rss_str())"
      ],
      "metadata": {
        "colab": {
          "base_uri": "https://localhost:8080/"
        },
        "id": "HRVDy3SYNrRZ",
        "outputId": "b5b0441f-acf7-4e99-9ac6-a9dc4016f1d6"
      },
      "execution_count": null,
      "outputs": [
        {
          "output_type": "stream",
          "name": "stdout",
          "text": [
            "b'<?xml version=\\'1.0\\' encoding=\\'UTF-8\\'?>\\n<rss xmlns:atom=\"http://www.w3.org/2005/Atom\" xmlns:content=\"http://purl.org/rss/1.0/modules/content/\" version=\"2.0\"><channel><title>IES Rafael Alberti</title><link>https://iesrafaelalberti.es/rss.xml</link><description>Subt\\xc3\\xadtulo del feed</description><atom:link href=\"https://iesrafaelalberti.es/rss.xml\" rel=\"self\"/><docs>http://www.rssboard.org/rss-specification</docs><generator>python-feedgen</generator><image><url>http://iesrafaelalberti.es/logo.jpg</url><title>IES Rafael Alberti</title><link>https://iesrafaelalberti.es/rss.xml</link></image><language>es-ES</language><lastBuildDate>Mon, 04 Apr 2022 07:29:29 +0000</lastBuildDate></channel></rss>'\n"
          ]
        }
      ]
    },
    {
      "cell_type": "markdown",
      "source": [
        "## Añadir entradas al feed"
      ],
      "metadata": {
        "id": "m0KS-VojOcNq"
      }
    },
    {
      "cell_type": "markdown",
      "source": [
        "Una vez tenemos el canal configurado, utilizamos el método `add_entry` para añadir entradas de noticias (o lo que queramos) a nuestro feed."
      ],
      "metadata": {
        "id": "Y6LdUL5tetnn"
      }
    },
    {
      "cell_type": "code",
      "source": [
        "fe = fg.add_entry()\n",
        "fe.id('Identificador de la entrada')\n",
        "fe.title('INFORMACIÓN SOBRE LA BECA GENERAL DEL PRÓXIMO CURSO 2022/2023')\n",
        "fe.link(href=\"https://iesrafaelalberti.es/informacion-sobre-la-beca-general-del-proximo-curso-2022-2023/\")\n",
        "fe.description(\"Para el próximo curso 2022/2023 se ha adelantado el plazo para solicitar la Beca de la convocatoria general para estudiante de estudios postobligatorios, siendo el mismo desde el 30 de marzo al 12 de mayo de 2022. A fin de dar difusión al alumnado interesado se envía documento informativo.\")"
      ],
      "metadata": {
        "colab": {
          "base_uri": "https://localhost:8080/",
          "height": 53
        },
        "id": "nE7SMKSJOeAZ",
        "outputId": "60850c2b-fbe1-49c7-f70c-d0ca42c71d7d"
      },
      "execution_count": null,
      "outputs": [
        {
          "output_type": "execute_result",
          "data": {
            "text/plain": [
              "'Para el próximo curso 2022/2023 se ha adelantado el plazo para solicitar la Beca de la convocatoria general para estudiante de estudios postobligatorios, siendo el mismo desde el 30 de marzo al 12 de mayo de 2022. A fin de dar difusión al alumnado interesado se envía documento informativo.'"
            ],
            "application/vnd.google.colaboratory.intrinsic+json": {
              "type": "string"
            }
          },
          "metadata": {},
          "execution_count": 7
        }
      ]
    },
    {
      "cell_type": "markdown",
      "source": [
        "## Exportar feed"
      ],
      "metadata": {
        "id": "xvkhIO_-OWJv"
      }
    },
    {
      "cell_type": "markdown",
      "source": [
        "Podemos exportar el feed en un string con todo su contenido o directamente en un archivo, tanto en formato RSS como Atom."
      ],
      "metadata": {
        "id": "hykv-uvoffXz"
      }
    },
    {
      "cell_type": "code",
      "source": [
        "atomfeed = fg.atom_str(pretty=True) # Obtiene el feed ATOM como cadena\n",
        "fg.atom_file('atom.xml') # Escribe el feed ATOM a un fichero\n",
        "\n",
        "rssfeed  = fg.rss_str(pretty=True) # Obtiene el feed RSS como cadena\n",
        "fg.rss_file('rss.xml') # Escribe el feed RSS a un fichero"
      ],
      "metadata": {
        "id": "aiKsy-HDOZvf"
      },
      "execution_count": null,
      "outputs": []
    },
    {
      "cell_type": "markdown",
      "source": [
        "# Validación de un feed"
      ],
      "metadata": {
        "id": "2lVgQkioOy6a"
      }
    },
    {
      "cell_type": "markdown",
      "source": [
        "La librería que vamos a utilizar para validar un feed no se encuentra en los repositorios de PyPi. Así que tendrás que descargarla del siguiente enlace:\n",
        "\n",
        "https://github.com/IES-Rafael-Alberti/LMSGI-21-22-codes/raw/main/xml/rss/feedvalidator.zip\n",
        "\n",
        "Descomprime el archivo, crea una carpeta con el nombre `feedvalidator` en los archivos de este cuaderno y copia todos los archivos .py dentro.\n",
        "\n",
        "Tendremos que instalar la librería `html5lib`, que es requisito para `feedvalidator`:"
      ],
      "metadata": {
        "id": "Qs_o0UXRVT6J"
      }
    },
    {
      "cell_type": "code",
      "source": [
        "pip install html5lib"
      ],
      "metadata": {
        "colab": {
          "base_uri": "https://localhost:8080/"
        },
        "id": "QZ-qhNcTNtfX",
        "outputId": "652e634f-e7cb-47db-932b-0cc674747efb"
      },
      "execution_count": 1,
      "outputs": [
        {
          "output_type": "stream",
          "name": "stdout",
          "text": [
            "Requirement already satisfied: html5lib in /usr/local/lib/python3.7/dist-packages (1.0.1)\n",
            "Requirement already satisfied: six>=1.9 in /usr/local/lib/python3.7/dist-packages (from html5lib) (1.15.0)\n",
            "Requirement already satisfied: webencodings in /usr/local/lib/python3.7/dist-packages (from html5lib) (0.5.1)\n"
          ]
        }
      ]
    },
    {
      "cell_type": "markdown",
      "source": [
        "Después de eso podrás importarla:"
      ],
      "metadata": {
        "id": "9uwjlzK_NrEJ"
      }
    },
    {
      "cell_type": "code",
      "source": [
        "import feedvalidator"
      ],
      "metadata": {
        "id": "jupdvrj-S6U6"
      },
      "execution_count": null,
      "outputs": []
    },
    {
      "cell_type": "markdown",
      "source": [
        "Para validar el archivo RSS, lo abres como cualquier otro archivo en Python y se lo pasas al método `validateStream` de `feedvalidator`. Te mostrará un log de la validación, indicando si hay algún elemento erróneo. Esta librería es la que utiliza W3C en la web https://validator.w3.org/feed/."
      ],
      "metadata": {
        "id": "EOG_CfSK5Sm2"
      }
    },
    {
      "cell_type": "code",
      "source": [
        "archivo = open(\"rss.xml\", \"rb\") \n",
        "feedvalidator.validateStream(archivo)"
      ],
      "metadata": {
        "colab": {
          "base_uri": "https://localhost:8080/"
        },
        "id": "dkvAHjWcS9gk",
        "outputId": "5fceee15-377f-4a13-f6e9-a4dc0de12b68"
      },
      "execution_count": null,
      "outputs": [
        {
          "output_type": "execute_result",
          "data": {
            "text/plain": [
              "{'feedType': 2,\n",
              " 'loggedEvents': [<feedvalidator.logging.ValidElement at 0x7f9b7787a0d0>,\n",
              "  <feedvalidator.logging.ValidElement at 0x7f9b7787a2d0>,\n",
              "  <feedvalidator.logging.ValidElement at 0x7f9b7787ae90>,\n",
              "  <feedvalidator.logging.ValidURI at 0x7f9b7787aad0>,\n",
              "  <feedvalidator.logging.ValidElement at 0x7f9b7787a190>,\n",
              "  <feedvalidator.logging.ValidElement at 0x7f9b7787a810>,\n",
              "  <feedvalidator.logging.ValidElement at 0x7f9b7787a050>,\n",
              "  <feedvalidator.logging.ValidAtomLinkRel at 0x7f9b7787af10>,\n",
              "  <feedvalidator.logging.ValidURI at 0x7f9b77880f10>,\n",
              "  <feedvalidator.logging.SelfDoesntMatchLocation at 0x7f9b77880dd0>,\n",
              "  <feedvalidator.logging.ValidURI at 0x7f9b77880490>,\n",
              "  <feedvalidator.logging.ValidElement at 0x7f9b7791f110>,\n",
              "  <feedvalidator.logging.ValidElement at 0x7f9b7791f250>,\n",
              "  <feedvalidator.logging.ValidElement at 0x7f9b7791f450>,\n",
              "  <feedvalidator.logging.ValidURI at 0x7f9b7767c110>,\n",
              "  <feedvalidator.logging.ValidElement at 0x7f9b7767c5d0>,\n",
              "  <feedvalidator.logging.ValidTitle at 0x7f9b7767ce50>,\n",
              "  <feedvalidator.logging.ValidElement at 0x7f9b7767c550>,\n",
              "  <feedvalidator.logging.ValidURI at 0x7f9b7767cf10>,\n",
              "  <feedvalidator.logging.ValidElement at 0x7f9b7767c7d0>,\n",
              "  <feedvalidator.logging.ValidElement at 0x7f9b7767c190>,\n",
              "  <feedvalidator.logging.ValidElement at 0x7f9b7767c3d0>,\n",
              "  <feedvalidator.logging.ValidLanguage at 0x7f9b7767e1d0>,\n",
              "  <feedvalidator.logging.ValidElement at 0x7f9b7767e350>,\n",
              "  <feedvalidator.logging.ValidRFC2822Date at 0x7f9b7767e910>,\n",
              "  <feedvalidator.logging.ValidElement at 0x7f9b7767e810>,\n",
              "  <feedvalidator.logging.ValidURI at 0x7f9b7767e510>,\n",
              "  <feedvalidator.logging.ValidElement at 0x7f9b7767e650>,\n",
              "  <feedvalidator.logging.ValidBooleanAttribute at 0x7f9b77680090>,\n",
              "  <feedvalidator.logging.ValidHttpGUID at 0x7f9b776801d0>,\n",
              "  <feedvalidator.logging.ValidElement at 0x7f9b77680210>,\n",
              "  <feedvalidator.logging.ValidElement at 0x7f9b77680250>,\n",
              "  <feedvalidator.logging.ItemMustContainTitleOrDescription at 0x7f9b7767e710>,\n",
              "  <feedvalidator.logging.ValidElement at 0x7f9b7767e250>,\n",
              "  <feedvalidator.logging.ValidElement at 0x7f9b7767ee50>,\n",
              "  <feedvalidator.logging.ValidElement at 0x7f9b7767e290>]}"
            ]
          },
          "metadata": {},
          "execution_count": 27
        }
      ]
    },
    {
      "cell_type": "markdown",
      "source": [
        "# Lectura de un feed RSS"
      ],
      "metadata": {
        "id": "uvLfExZtO0KF"
      }
    },
    {
      "cell_type": "markdown",
      "source": [
        "Para leer un feed RSS desde Python (en inglés sería parsear el fichero), utilizaremos la librería `feedparser`."
      ],
      "metadata": {
        "id": "DcGKvQX35q6N"
      }
    },
    {
      "cell_type": "markdown",
      "source": [
        "## Instalar librería"
      ],
      "metadata": {
        "id": "nucgXTv2O87h"
      }
    },
    {
      "cell_type": "code",
      "source": [
        "pip install feedparser"
      ],
      "metadata": {
        "colab": {
          "base_uri": "https://localhost:8080/"
        },
        "id": "HcKPq9jFO-gU",
        "outputId": "22d2dfc9-715b-4c00-fe0a-8b622b26000b"
      },
      "execution_count": null,
      "outputs": [
        {
          "output_type": "stream",
          "name": "stdout",
          "text": [
            "Collecting feedparser\n",
            "  Downloading feedparser-6.0.8-py3-none-any.whl (81 kB)\n",
            "\u001b[?25l\r\u001b[K     |████                            | 10 kB 22.1 MB/s eta 0:00:01\r\u001b[K     |████████                        | 20 kB 21.8 MB/s eta 0:00:01\r\u001b[K     |████████████▏                   | 30 kB 24.4 MB/s eta 0:00:01\r\u001b[K     |████████████████▏               | 40 kB 13.9 MB/s eta 0:00:01\r\u001b[K     |████████████████████▏           | 51 kB 6.3 MB/s eta 0:00:01\r\u001b[K     |████████████████████████▎       | 61 kB 7.4 MB/s eta 0:00:01\r\u001b[K     |████████████████████████████▎   | 71 kB 8.1 MB/s eta 0:00:01\r\u001b[K     |████████████████████████████████| 81 kB 4.7 MB/s \n",
            "\u001b[?25hCollecting sgmllib3k\n",
            "  Downloading sgmllib3k-1.0.0.tar.gz (5.8 kB)\n",
            "Building wheels for collected packages: sgmllib3k\n",
            "  Building wheel for sgmllib3k (setup.py) ... \u001b[?25l\u001b[?25hdone\n",
            "  Created wheel for sgmllib3k: filename=sgmllib3k-1.0.0-py3-none-any.whl size=6066 sha256=8692baf4b91e1dbac0ad00b855c875033ebd962b8ee0e0d88174dbd6cd7c5234\n",
            "  Stored in directory: /root/.cache/pip/wheels/73/ad/a4/0dff4a6ef231fc0dfa12ffbac2a36cebfdddfe059f50e019aa\n",
            "Successfully built sgmllib3k\n",
            "Installing collected packages: sgmllib3k, feedparser\n",
            "Successfully installed feedparser-6.0.8 sgmllib3k-1.0.0\n"
          ]
        }
      ]
    },
    {
      "cell_type": "markdown",
      "source": [
        "## Leer de un feed\n",
        "\n",
        "Para parsear un feed, simplemente le pasamos a un objeto de la librería `feedparser` el nombre del archivo RSS usando el método `parse`. Este método también admite una URL o una string con el contenido del archivo."
      ],
      "metadata": {
        "id": "Eo_S2FqHO_MT"
      }
    },
    {
      "cell_type": "code",
      "source": [
        "import feedparser\n",
        "file = feedparser.parse(r'rss.xml')\n",
        "\n",
        "# El objeto file.feed contiene todas las etiquetas relativas al canal\n",
        "print(file.feed.title)\n",
        "\n",
        "# file.entries es un array con todas las entradas\n",
        "print(file.entries[0].title)"
      ],
      "metadata": {
        "colab": {
          "base_uri": "https://localhost:8080/"
        },
        "id": "EiF19YqNPT0-",
        "outputId": "7272d82b-946f-4304-fa50-4e011ddf26c0"
      },
      "execution_count": null,
      "outputs": [
        {
          "output_type": "stream",
          "name": "stdout",
          "text": [
            "IES Rafael Alberti\n",
            "INFORMACIÓN SOBRE LA BECA GENERAL DEL PRÓXIMO CURSO 2022/2023\n"
          ]
        }
      ]
    }
  ]
}