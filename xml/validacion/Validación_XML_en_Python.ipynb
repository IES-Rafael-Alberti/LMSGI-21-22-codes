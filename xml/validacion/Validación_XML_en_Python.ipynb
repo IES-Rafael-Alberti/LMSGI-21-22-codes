{
  "nbformat": 4,
  "nbformat_minor": 0,
  "metadata": {
    "colab": {
      "name": "Validación XML en Python.ipynb",
      "provenance": [],
      "collapsed_sections": []
    },
    "kernelspec": {
      "name": "python3",
      "display_name": "Python 3"
    },
    "language_info": {
      "name": "python"
    }
  },
  "cells": [
    {
      "cell_type": "markdown",
      "source": [
        "# Introducción a la validación XML en Python\n",
        "\n",
        "Para validar archivos XML con un XML Schema con Python podemos usar la librería [xmlschema](https://pypi.org/project/xmlschema/)."
      ],
      "metadata": {
        "id": "n9Iv5I6ruyHd"
      }
    },
    {
      "cell_type": "markdown",
      "source": [
        "# Instalación de xmlschema\n",
        "\n",
        "Como la mayoría de los paquetes externos de Python, podemos instalar la librería usando `pip`.\n",
        "\n"
      ],
      "metadata": {
        "id": "S6OKoM4WvDnb"
      }
    },
    {
      "cell_type": "code",
      "execution_count": 1,
      "metadata": {
        "colab": {
          "base_uri": "https://localhost:8080/"
        },
        "id": "wtg-Cx1N7yoS",
        "outputId": "7bb0335d-ee95-4fe7-9b6c-e1a39a2d1832"
      },
      "outputs": [
        {
          "output_type": "stream",
          "name": "stdout",
          "text": [
            "Collecting xmlschema\n",
            "  Downloading xmlschema-1.10.0-py3-none-any.whl (273 kB)\n",
            "\u001b[K     |████████████████████████████████| 273 kB 7.6 MB/s \n",
            "\u001b[?25hCollecting elementpath<3.0.0,>=2.5.0\n",
            "  Downloading elementpath-2.5.0-py3-none-any.whl (181 kB)\n",
            "\u001b[K     |████████████████████████████████| 181 kB 61.0 MB/s \n",
            "\u001b[?25hInstalling collected packages: elementpath, xmlschema\n",
            "Successfully installed elementpath-2.5.0 xmlschema-1.10.0\n"
          ]
        }
      ],
      "source": [
        "pip install xmlschema"
      ]
    },
    {
      "cell_type": "markdown",
      "source": [
        "# Uso básico de xmlschema"
      ],
      "metadata": {
        "id": "hs2I9UzmvN5O"
      }
    },
    {
      "cell_type": "markdown",
      "source": [
        "## Importar la librería\n",
        "\n",
        "Para poder utilizar xmlschema en cualquier script, debemos importarla primero."
      ],
      "metadata": {
        "id": "LBq2TKHQvTuE"
      }
    },
    {
      "cell_type": "code",
      "source": [
        "import xmlschema"
      ],
      "metadata": {
        "id": "gpFxevPv98mY"
      },
      "execution_count": 2,
      "outputs": []
    },
    {
      "cell_type": "markdown",
      "source": [
        "## Validación de XML usando strings\n",
        "\n"
      ],
      "metadata": {
        "id": "E5VhxhEYvYfs"
      }
    },
    {
      "cell_type": "markdown",
      "source": [
        "En el siguiente fragmento de código, almacenamos un Schema XML en la variable `schema` usando el constructor `XMLSchema` de la librería.\n",
        "\n",
        "El Schema XML se suministra al constructor directamente como un string. En Python, el uso de las triples comillas `\"\"\"` permite definir un string largo en varias líneas, de forma que la lectura del código sea más sencilla."
      ],
      "metadata": {
        "id": "zljIEOZf2rfN"
      }
    },
    {
      "cell_type": "code",
      "source": [
        " schema = xmlschema.XMLSchema(\"\"\"\n",
        " <xs:schema xmlns:xs=\"http://www.w3.org/2001/XMLSchema\">\n",
        "  <xs:element name=\"BIBLIOTECA\">\n",
        "    <xs:complexType>\n",
        "      <xs:sequence>\n",
        "        <xs:element name=\"LIBRO\" minOccurs=\"1\" maxOccurs=\"unbounded\">\n",
        "          <xs:complexType>\n",
        "            <xs:sequence>\n",
        "              <xs:element name=\"TITULO\" type=\"xs:string\"/>\n",
        "              <xs:element name=\"AUTOR\" type=\"xs:string\" minOccurs=\"0\" maxOccurs=\"unbounded\"/>\n",
        "              <xs:element name=\"ANYO\" type=\"xs:string\" minOccurs=\"0\" />\n",
        "              <xs:element name=\"EDITORIAL\" type=\"xs:string\" minOccurs=\"0\" />\n",
        "            </xs:sequence>\n",
        "            <xs:attribute name=\"COD\" type=\"xs:string\" />\n",
        "          </xs:complexType>\n",
        "        </xs:element>\n",
        "      </xs:sequence>\n",
        "    </xs:complexType>\n",
        "  </xs:element>\n",
        "</xs:schema>\n",
        "\"\"\")"
      ],
      "metadata": {
        "id": "TviZUwEC9_pi"
      },
      "execution_count": null,
      "outputs": []
    },
    {
      "cell_type": "markdown",
      "source": [
        "Usando el método `is_valid` del Schema XML definido en la variable `schema`, podemos pasarle un XML y nos devolverá si se valida correctamente o no."
      ],
      "metadata": {
        "id": "EwIKsruC3N6g"
      }
    },
    {
      "cell_type": "code",
      "source": [
        "schema.is_valid(\"\"\"\n",
        "<BIBLIOTECA xmlns:xsi=\"http://www.w3.org/2001/XMLSchema-instance\"\n",
        " xsi:noNamespaceSchemaLocation=\"biblioteca-m_rusas.xsd\">\n",
        "\t<LIBRO COD=\"1\">\n",
        "\t\t<TITULO>XML práctico</TITULO>\n",
        "\t\t<AUTOR>Thierry Boulanger</AUTOR>\n",
        "\t\t<ANYO>2015</ANYO>\n",
        "\t\t<EDITORIAL>Ediciones ENI</EDITORIAL>\n",
        "\t</LIBRO>\n",
        "\t<LIBRO COD=\"11\">\n",
        "\t\t<TITULO>Learning XML</TITULO>\n",
        "\t\t<AUTOR>Erik T. Ray</AUTOR>\n",
        "\t\t<ANYO>2003</ANYO>\n",
        "\t\t<EDITORIAL>O'Reilly</EDITORIAL>\n",
        "\t</LIBRO>\n",
        "</BIBLIOTECA>\n",
        "\"\"\")"
      ],
      "metadata": {
        "colab": {
          "base_uri": "https://localhost:8080/"
        },
        "id": "Yn0Nm5VKBmWd",
        "outputId": "4d39d002-ae95-4d4c-8386-e176093c9af0"
      },
      "execution_count": null,
      "outputs": [
        {
          "output_type": "execute_result",
          "data": {
            "text/plain": [
              "True"
            ]
          },
          "metadata": {},
          "execution_count": 13
        }
      ]
    },
    {
      "cell_type": "markdown",
      "source": [
        "## Validación de XML usando archivos\n",
        "\n",
        "Por supuesto, es más cómodo realizar la validación directamente sobre los archivos en lugar de poner su contenido como cadenas de texto (strings).\n",
        "\n",
        "Si quieres ejecutar el código a continuación, debes **subir los archivos** necesarios que podrás descargar [aquí](https://github.com/IES-Rafael-Alberti/LMSGI-21-22-codes/raw/main/xml/validacion/ejemplos-validacion-xml.zip) a este entorno de ejecución. Para ello, **pulsa en el icono de la carpeta en la barra lateral izquierda y arrastra al explorador de archivos que aparecerá esos ficheros descomprimidos**."
      ],
      "metadata": {
        "id": "O5oX2dvAvfle"
      }
    },
    {
      "cell_type": "markdown",
      "source": [
        "El código es exactamente el mismo que el que hemos utilizado en el ejemplo anterior, pero pasando como argumento la ruta del archivo en lugar del string."
      ],
      "metadata": {
        "id": "jmK01tYW0f1R"
      }
    },
    {
      "cell_type": "code",
      "source": [
        "schema = xmlschema.XMLSchema('biblioteca-m_rusas.xsd')"
      ],
      "metadata": {
        "id": "OSHb62ceCEiN"
      },
      "execution_count": 3,
      "outputs": []
    },
    {
      "cell_type": "code",
      "source": [
        "schema.is_valid('biblioteca.xml')"
      ],
      "metadata": {
        "colab": {
          "base_uri": "https://localhost:8080/"
        },
        "id": "eO-VZsUYCNsp",
        "outputId": "859195af-0a4d-4769-88e7-4ba8d4802dfd"
      },
      "execution_count": 4,
      "outputs": [
        {
          "output_type": "execute_result",
          "data": {
            "text/plain": [
              "True"
            ]
          },
          "metadata": {},
          "execution_count": 4
        }
      ]
    },
    {
      "cell_type": "code",
      "source": [
        "schema.is_valid('biblioteca-error.xml')"
      ],
      "metadata": {
        "colab": {
          "base_uri": "https://localhost:8080/"
        },
        "id": "TqtRN5fq1G7n",
        "outputId": "251f80b9-d13b-4614-f4e1-7038e9c6887d"
      },
      "execution_count": 6,
      "outputs": [
        {
          "output_type": "execute_result",
          "data": {
            "text/plain": [
              "False"
            ]
          },
          "metadata": {},
          "execution_count": 6
        }
      ]
    },
    {
      "cell_type": "markdown",
      "source": [
        "## Descripción de errores"
      ],
      "metadata": {
        "id": "mpY4pvHRv_jg"
      }
    },
    {
      "cell_type": "markdown",
      "source": [
        "El método `is_valid` es muy útil para comprobar si un fichero XML se valida con el Schema o no. Pero en el caso de que no lo valide devuelve `False` sin indicar el motivo. Si queremos conocerlo, podemos utilizar `validate`. Este método no devuelve nada si la validación se realiza correctamente y devuelve un error descriptivo en caso contrario."
      ],
      "metadata": {
        "id": "Fdss3kWI004t"
      }
    },
    {
      "cell_type": "markdown",
      "source": [
        "Por ejemplo, cuando la validación se realiza correctamente no devuelve nada:"
      ],
      "metadata": {
        "id": "GS77ARJzCiHg"
      }
    },
    {
      "cell_type": "code",
      "source": [
        "schema.validate('biblioteca.xml')"
      ],
      "metadata": {
        "id": "d0BIX4-tCf1x"
      },
      "execution_count": 7,
      "outputs": []
    },
    {
      "cell_type": "markdown",
      "source": [
        "Pero en caso contrario, devuelve un error. En el archivo `biblioteca-error.xml` se ha quitado la etiqueta TITULO a uno de los libros:"
      ],
      "metadata": {
        "id": "5vxZwfSXC8cE"
      }
    },
    {
      "cell_type": "code",
      "source": [
        "schema.validate('biblioteca-error.xml')"
      ],
      "metadata": {
        "colab": {
          "base_uri": "https://localhost:8080/",
          "height": 758
        },
        "id": "xiqoq1GaCuQ8",
        "outputId": "2522d95f-a233-484d-d91e-528a1f865eae"
      },
      "execution_count": null,
      "outputs": [
        {
          "output_type": "error",
          "ename": "XMLSchemaChildrenValidationError",
          "evalue": "ignored",
          "traceback": [
            "\u001b[0;31m---------------------------------------------------------------------------\u001b[0m",
            "\u001b[0;31mXMLSchemaChildrenValidationError\u001b[0m          Traceback (most recent call last)",
            "\u001b[0;32m<ipython-input-18-cd2ebee25776>\u001b[0m in \u001b[0;36m<module>\u001b[0;34m()\u001b[0m\n\u001b[0;32m----> 1\u001b[0;31m \u001b[0mschema\u001b[0m\u001b[0;34m.\u001b[0m\u001b[0mvalidate\u001b[0m\u001b[0;34m(\u001b[0m\u001b[0;34m'biblioteca-error.xml'\u001b[0m\u001b[0;34m)\u001b[0m\u001b[0;34m\u001b[0m\u001b[0;34m\u001b[0m\u001b[0m\n\u001b[0m",
            "\u001b[0;32m/usr/local/lib/python3.7/dist-packages/xmlschema/validators/schemas.py\u001b[0m in \u001b[0;36mvalidate\u001b[0;34m(self, source, path, schema_path, use_defaults, namespaces, max_depth, extra_validator)\u001b[0m\n\u001b[1;32m   1676\u001b[0m         for error in self.iter_errors(source, path, schema_path, use_defaults,\n\u001b[1;32m   1677\u001b[0m                                       namespaces, max_depth, extra_validator):\n\u001b[0;32m-> 1678\u001b[0;31m             \u001b[0;32mraise\u001b[0m \u001b[0merror\u001b[0m\u001b[0;34m\u001b[0m\u001b[0;34m\u001b[0m\u001b[0m\n\u001b[0m\u001b[1;32m   1679\u001b[0m \u001b[0;34m\u001b[0m\u001b[0m\n\u001b[1;32m   1680\u001b[0m     def is_valid(self, source: Union[XMLSourceType, XMLResource],\n",
            "\u001b[0;31mXMLSchemaChildrenValidationError\u001b[0m: failed validating <Element 'LIBRO' at 0x7f208da21230> with XsdGroup(model='sequence', occurs=[1, 1]):\n\nReason: Unexpected child with tag 'AUTOR' at position 1. Tag 'TITULO' expected.\n\nSchema:\n\n  <xs:complexType xmlns:xs=\"http://www.w3.org/2001/XMLSchema\">\n      <xs:sequence>\n          <xs:element name=\"TITULO\" type=\"xs:string\" />\n          <xs:element maxOccurs=\"unbounded\" minOccurs=\"0\" name=\"AUTOR\" type=\"xs:string\" />\n          <xs:element minOccurs=\"0\" name=\"ANYO\" type=\"xs:string\" />\n          <xs:element minOccurs=\"0\" name=\"EDITORIAL\" type=\"xs:string\" />\n      </xs:sequence>\n      <xs:attribute name=\"COD\" type=\"xs:string\" />\n  </xs:complexType>\n\nInstance:\n\n  <LIBRO COD=\"11\">\n      <AUTOR>Erik T. Ray</AUTOR>\n      <ANYO>2003</ANYO>\n      <EDITORIAL>O'Reilly</EDITORIAL>\n  </LIBRO>\n\nPath: /BIBLIOTECA/LIBRO[2]\n"
          ]
        }
      ]
    },
    {
      "cell_type": "markdown",
      "source": [
        "Fíjate que el error se describe en la línea:\n",
        "\n",
        "`Reason: Unexpected child with tag 'AUTOR' at position 1. Tag 'TITULO' expected.`"
      ],
      "metadata": {
        "id": "cBT7omgL2hZe"
      }
    }
  ]
}